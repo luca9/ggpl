{
 "cells": [
  {
   "cell_type": "code",
   "execution_count": 9,
   "metadata": {
    "collapsed": false
   },
   "outputs": [
    {
     "data": {
      "text/plain": [
       "<pyplasm.xgepy.Hpc; proxy of <Swig Object of type 'std::shared_ptr< Hpc > *' at 0x0000000006E04FC0> >"
      ]
     },
     "execution_count": 9,
     "metadata": {},
     "output_type": "execute_result"
    }
   ],
   "source": [
    "from pyplasm import *\n",
    "def buildStructure(beamSection, pillarSection, pillarDistances, interstoryHeights):\n",
    "        px,py = pillarSection\n",
    "        bx,bz = beamSection\n",
    "        pillarYPos = []\n",
    "        for c in pillarDistances:\n",
    "            pillarYPos.append(py)\n",
    "            pillarYPos.append(-c)\n",
    "        pillarYPos.append(py)\n",
    "\n",
    "        pillarZPos = []\n",
    "        for d in interstoryHeights:\n",
    "            pillarZPos.append(d)\n",
    "            pillarZPos.append(-bz)\n",
    "        pillars3D= PROD([PROD([QUOTE([px]),QUOTE(pillarYPos)]),QUOTE(pillarZPos)])\n",
    "\n",
    "        beamYPos = []\n",
    "        if len(pillarDistances) > 1:\n",
    "            beamYPos.append(pillarDistances[0] + 1.5*py)\n",
    "            for i in range(1,len(pillarDistances)-1):\n",
    "                beamYPos.append(pillarDistances[i] + py)\n",
    "            beamYPos.append(pillarDistances[-1] + 1.5*py)\n",
    "        else:\n",
    "            beamYPos.append(pillarDistances[0] + 2.0*py)\n",
    "\n",
    "        beamZPos = []\n",
    "        for d in interstoryHeights:\n",
    "            beamZPos.append(-d)\n",
    "            beamZPos.append(bz)\n",
    "\n",
    "        beams3D = PROD([PROD([QUOTE([bx]), QUOTE(beamYPos)]), QUOTE(beamZPos)])\n",
    "\n",
    "        structure = STRUCT([pillars3D, beams3D])\n",
    "        return structure\n",
    "\n",
    "# dimensions of beam section\n",
    "bx = 0.5\n",
    "bz = 0.5\n",
    "# dimensions of pillar section\n",
    "px = 0.5\n",
    "py = 0.5\n",
    "\n",
    "# distances between axes of the pillar\n",
    "dy2 = [3, 6, 2, 7]\n",
    "\n",
    "# interstory heights\n",
    "hz2 = [4, 2, 3, 5]\n",
    "\n",
    "VIEW(buildStructure((bx, bz), (px, py), dy2, hz2))\n",
    "\n",
    "\n",
    "\n",
    "\n",
    "\n",
    "\n"
   ]
  },
  {
   "cell_type": "code",
   "execution_count": null,
   "metadata": {
    "collapsed": true
   },
   "outputs": [],
   "source": [
    "from pyplasm import *\n",
    "import csv\n"
   ]
  }
 ],
 "metadata": {
  "kernelspec": {
   "display_name": "Python 2",
   "language": "python",
   "name": "python2"
  },
  "language_info": {
   "codemirror_mode": {
    "name": "ipython",
    "version": 2
   },
   "file_extension": ".py",
   "mimetype": "text/x-python",
   "name": "python",
   "nbconvert_exporter": "python",
   "pygments_lexer": "ipython2",
   "version": "2.7.12"
  }
 },
 "nbformat": 4,
 "nbformat_minor": 1
}
