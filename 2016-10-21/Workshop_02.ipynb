{
 "cells": [
  {
   "cell_type": "code",
   "execution_count": 1,
   "metadata": {
    "collapsed": false
   },
   "outputs": [
    {
     "name": "stdout",
     "output_type": "stream",
     "text": [
      "Evaluating fenvs.py..\n",
      "...fenvs.py imported in 0.0157015852821 seconds\n"
     ]
    },
    {
     "name": "stderr",
     "output_type": "stream",
     "text": [
      "c:\\python27\\lib\\site-packages\\larlib\\larstruct.py:233: FutureWarning: comparison to `None` will result in an elementwise object comparison in the future.\n",
      "  self.body = [item for item in data if item != None]\n"
     ]
    }
   ],
   "source": [
    "from pyplasm import *\n",
    "from larlib import *\n",
    "import csv"
   ]
  },
  {
   "cell_type": "code",
   "execution_count": 2,
   "metadata": {
    "collapsed": true
   },
   "outputs": [],
   "source": [
    "%run Workshop_01.ipynb"
   ]
  },
  {
   "cell_type": "code",
   "execution_count": 2,
   "metadata": {
    "collapsed": true
   },
   "outputs": [],
   "source": [
    "def intersperse(sequence, value):\n",
    "    res = [value] * (2 * len(sequence) - 1)\n",
    "    res[::2] = sequence\n",
    "    return res\n"
   ]
  },
  {
   "cell_type": "code",
   "execution_count": 3,
   "metadata": {
    "collapsed": true
   },
   "outputs": [],
   "source": [
    "def getCenter(base, x):\n",
    "    if (base > x):\n",
    "        center = (base - x) / 2.0\n",
    "    else:\n",
    "        center = 0\n",
    "        \n",
    "    return center\n",
    "\n",
    "def generateBeams(structParams, beamX):\n",
    "    (by, bz), (px, py), distances, heights = structParams\n",
    "\n",
    "    # get centering value\n",
    "    centerY = getCenter(py, by)\n",
    "\n",
    "    negate = lambda x: -x\n",
    "    adjust = lambda x: negate(x + (2 * centerY))\n",
    "\n",
    "    beams_y = [-centerY, by] + intersperse(map(adjust, distances), by) + [by]\n",
    "    beams_z = intersperse(map(negate, heights), bz) + [bz]\n",
    "\n",
    "    # generate beams\n",
    "    res = PROD(\n",
    "        [PROD([QUOTE([beamX + px]), QUOTE(beams_y)]),\n",
    "         QUOTE(beams_z)])\n",
    "\n",
    "    return res\n",
    "\n",
    "\n"
   ]
  },
  {
   "cell_type": "code",
   "execution_count": null,
   "metadata": {
    "collapsed": true
   },
   "outputs": [],
   "source": [
    "def ggpl_bone_structure(file_name):\n",
    "    state = 0\n",
    "    res = []\n",
    "    params = None\n",
    "\n",
    "    # should use a less dangerous parsing method than eval\n",
    "    parseVect = lambda line: eval(line)\n",
    "    parseList = lambda line: map(parseVect, line)\n",
    "\n",
    "    with open(file_name) as f:\n",
    "        for row in csv.reader(f):          \n",
    "            # FSM used for parsing csv. 0: odd lines, 1: even lines    \n",
    "            if state == 0:\n",
    "                position = parseVect(*row)\n",
    "                beamX = position[0]\n",
    "\n",
    "                if params:\n",
    "                    beams = generateBeams(params, beamX)\n",
    "                    res.append(beams)\n",
    "\n",
    "                res.append(T([1,2,3])(position))\n",
    "                state = 1\n",
    "                \n",
    "            else:\n",
    "                params = parseList(row)\n",
    "                res.append(buildStructure(*params))\n",
    "                state = 0\n",
    "\n",
    "    return STRUCT(res)\n",
    "VIEW(ggpl_bone_structure('data_frame_461395.csv'))"
   ]
  }
 ],
 "metadata": {
  "kernelspec": {
   "display_name": "Python 2",
   "language": "python",
   "name": "python2"
  },
  "language_info": {
   "codemirror_mode": {
    "name": "ipython",
    "version": 2
   },
   "file_extension": ".py",
   "mimetype": "text/x-python",
   "name": "python",
   "nbconvert_exporter": "python",
   "pygments_lexer": "ipython2",
   "version": "2.7.12"
  }
 },
 "nbformat": 4,
 "nbformat_minor": 1
}
