{
 "cells": [
  {
   "cell_type": "code",
   "execution_count": null,
   "metadata": {
    "collapsed": false
   },
   "outputs": [],
   "source": [
    "from pyplasm import *\n",
    "import math\n",
    "\n",
    "def ggpl_box_stair(x, y, z):\n",
    "  \"\"\"\n",
    "  funzione che crea il box in cui dev'essere contenuta la scatola\n",
    "  x,y,z: valori della dimensione della scatola\n",
    "  essa ritorna la lista che compone la scala e crea la scatola\n",
    "  \"\"\"\n",
    "\n",
    "  def rampOfStair(x,y,z,rampOfStairList,yNumeroGradini,zNumeroGradini,xGradino,yGradino,zGradino):\n",
    "    \"\"\"\n",
    "    funzione che crea una lista che è in grado di costruire una rampa di scale\n",
    "    x,y,z sono i valori della dimensione della scatola\n",
    "    rampOfStairList e' la lista in cui si inseriranno i valori della rampa di scale\n",
    "    yNumeroGradini e' il numero di gradini che bisogna inserire nella rampa di scale\n",
    "    zNumeroGradinie' il numero di gradini che ancora si possono inserire prima di arrivare a z\n",
    "    xGradino è la larghezza della rampa\n",
    "    yGradino indica la lunghezza di uno scalino\n",
    "    zGradino indica di quanto bisogna alzare il successivo gradino\n",
    "    rampOfStairLislista contentente i valori per creare una rampa di scale\n",
    "    \"\"\"\n",
    "    xyGradino = MKPOL([[[0,0],[0,zGradino],[yGradino,zGradino],[yGradino,zGradino/2],[0,0]],[[1,2,3,4,5]],1])\n",
    "    xyzGradino = PROD([QUOTE([xGradino]),xyGradino])\n",
    "\n",
    "    for i in range(yNumeroGradini):\n",
    "      rampOfStairList.append(xyzGradino)\n",
    "      zNumeroGradini = zNumeroGradini-1\n",
    "      # smetto di inserire gradine se non ho più spazio lungo l'asse z\n",
    "      if zNumeroGradini<=0:\n",
    "        return rampOfStairList\n",
    "      rampOfStairList.append(T([2,3])([yGradino,zGradino-0.2]))  #attenzione il -0.2 e' in relazione al xGradino in ggpl_box_stair che vale 0.4\n",
    "    rampOfStairList.append(CUBOID([xGradino,xGradino-yGradino,zGradino-0.2]))\n",
    "    rampOfStairList.append(T([2])([xGradino-yGradino]))\n",
    "    rampOfStairList.append(R([2,1])(PI/2))\n",
    "    rampOfStairList.append(T([2])([xGradino]))\n",
    "\n",
    "    return rampOfStairList\n",
    " \n",
    "\n",
    "  rampOfStairList = []\n",
    "  stair = []\n",
    "  # dimensioni di partenza per la creazione di un gradino che sono poi modificate per poter riempire in modo esatto la scatola\n",
    "  xGradino = 1\n",
    "  yGradino = 0.3\n",
    "  zGradino = 0.4\n",
    "  # creo la scatola e l'appendo alla lista della scala\n",
    "  box = SKEL_1(CUBOID([x,y,z]))\n",
    "  stair.append(box)\n",
    "  rampOfStairList.append(CUBOID([xGradino,xGradino,zGradino-0.2]))\n",
    "  rampOfStairList.append(T([2])([xGradino]))\n",
    "\n",
    "  # indica su quale coordinata si trova la rampa (latoX=0  ==> y) (latoX=1  ==> x)\n",
    "  latoX=0\n",
    "  zNumeroGradini = (int)(math.floor((z-(zGradino/2))/(zGradino/2)))\n",
    "\n",
    "  #inserisco nuove rampe fino a che l'asse z me lo consente\n",
    "  while zNumeroGradini>0:\n",
    "    if latoX == 0:\n",
    "      yNumeroGradini = (int)(math.floor((y-xGradino-xGradino+yGradino)/yGradino))\n",
    "      latoX=latoX+1\n",
    "    else:\n",
    "      yNumeroGradini = (int)(math.floor((x-xGradino-xGradino+yGradino)/yGradino))\n",
    "      latoX=latoX-1\n",
    "    rampOfStairList = rampOfStair(x,y,z,rampOfStairList,yNumeroGradini,zNumeroGradini,xGradino,yGradino,zGradino)\n",
    "    zNumeroGradini = zNumeroGradini - yNumeroGradini\n",
    "    for el in rampOfStairList:\n",
    "      stair.append(el)\n",
    "    rampOfStairList = []\n",
    "  return stair\n",
    "\n",
    "VIEW(STRUCT(ggpl_box_stair(8.0,8.0,22.0)))"
   ]
  },
  {
   "cell_type": "code",
   "execution_count": null,
   "metadata": {
    "collapsed": true
   },
   "outputs": [],
   "source": []
  }
 ],
 "metadata": {
  "kernelspec": {
   "display_name": "Python 2",
   "language": "python",
   "name": "python2"
  },
  "language_info": {
   "codemirror_mode": {
    "name": "ipython",
    "version": 2
   },
   "file_extension": ".py",
   "mimetype": "text/x-python",
   "name": "python",
   "nbconvert_exporter": "python",
   "pygments_lexer": "ipython2",
   "version": "2.7.13"
  }
 },
 "nbformat": 4,
 "nbformat_minor": 1
}
