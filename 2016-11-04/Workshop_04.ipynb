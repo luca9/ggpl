{
 "cells": [
  {
   "cell_type": "code",
   "execution_count": 20,
   "metadata": {
    "collapsed": false
   },
   "outputs": [
    {
     "data": {
      "text/plain": [
       "'Definisco una funzione che tramite MKPOL mi genera \\n dei poligoni a seconda dei vertici definiti e delle celle definite.\\n Inoltre creo dei bordi tramite OFFSET e assemblo le due strutture tramite STRUCT'"
      ]
     },
     "execution_count": 20,
     "metadata": {},
     "output_type": "execute_result"
    }
   ],
   "source": [
    "from pyplasm import *\n",
    "def ggpl_roofBuilder(verts, cells):\n",
    "    tetto = MKPOL([verts,cells,None])\n",
    "    struttura = COLOR(RED)(OFFSET([0.5, 0.5, 0.5])(SKEL_1(tetto)))\n",
    "    complesso = STRUCT([tetto,struttura])\n",
    "    return complesso\n",
    "\"\"\"Definisco una funzione che tramite MKPOL mi genera \n",
    " dei poligoni a seconda dei vertici definiti e delle celle definite.\n",
    " Inoltre creo dei bordi tramite OFFSET e assemblo le due strutture tramite STRUCT\"\"\"\n",
    "\n"
   ]
  },
  {
   "cell_type": "code",
   "execution_count": 17,
   "metadata": {
    "collapsed": false
   },
   "outputs": [
    {
     "data": {
      "text/plain": [
       "<pyplasm.xgepy.Hpc; proxy of <Swig Object of type 'std::shared_ptr< Hpc > *' at 0x0000000010CFE900> >"
      ]
     },
     "execution_count": 17,
     "metadata": {},
     "output_type": "execute_result"
    }
   ],
   "source": [
    "vertici=[[0,0,0],[2.5,0,0],[5,0,0],[7.5,0,0],[10,0,0],[10,5,0],[7.5,5,0],[5,5,0],[2.5,5,0],[0,5,0],[0,2.5,4],[2.5,2.5,4],[5,2.5,4],[7.5,2.5,4],[10,2.5,4]]\n",
    "celle=[[1,11,12,2],[10,11,12,9],[2,12,13,3],[9,12,13,8],[3,13,14,4],[8,13,14,7],[4,14,15,5],[7,14,15,6]]\n",
    "\n",
    "VIEW(ggpl_roofBuilder(vertici,celle))"
   ]
  },
  {
   "cell_type": "code",
   "execution_count": null,
   "metadata": {
    "collapsed": true
   },
   "outputs": [],
   "source": []
  }
 ],
 "metadata": {
  "kernelspec": {
   "display_name": "Python 2",
   "language": "python",
   "name": "python2"
  },
  "language_info": {
   "codemirror_mode": {
    "name": "ipython",
    "version": 2
   },
   "file_extension": ".py",
   "mimetype": "text/x-python",
   "name": "python",
   "nbconvert_exporter": "python",
   "pygments_lexer": "ipython2",
   "version": "2.7.12"
  }
 },
 "nbformat": 4,
 "nbformat_minor": 1
}
