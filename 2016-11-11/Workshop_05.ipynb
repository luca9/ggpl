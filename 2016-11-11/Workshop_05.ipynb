{
 "cells": [
  {
   "cell_type": "code",
   "execution_count": 1,
   "metadata": {
    "collapsed": false
   },
   "outputs": [
    {
     "name": "stdout",
     "output_type": "stream",
     "text": [
      "Evaluating fenvs.py..\n",
      "...fenvs.py imported in 0.030102841371 seconds\n"
     ]
    },
    {
     "name": "stderr",
     "output_type": "stream",
     "text": [
      "c:\\python27\\lib\\site-packages\\larlib\\larstruct.py:233: FutureWarning: comparison to `None` will result in an elementwise object comparison in the future.\n",
      "  self.body = [item for item in data if item != None]\n"
     ]
    }
   ],
   "source": [
    "from pyplasm import *\n",
    "from larlib import *\n",
    "deskx = 1.4\n",
    "desky = 0.8\n",
    "deskz = 1.0\n",
    "r = .04"
   ]
  },
  {
   "cell_type": "code",
   "execution_count": 7,
   "metadata": {
    "collapsed": false
   },
   "outputs": [],
   "source": [
    "def ggpl_library(x, y, z):\n",
    "    p = 0.6\n",
    "    v = []\n",
    "    f = []\n",
    "\n",
    "    base = (0, 0, 0), (x, 0, 0), (0, y, 0), (x, y, 0)\n",
    "\n",
    "    addZ = lambda a, z: [a[0], a[1], a[2] + z]\n",
    "    addBase = lambda z: [addZ(base[0], z), addZ(base[1], z), addZ(base[2], z), addZ(base[3], z)]\n",
    "\n",
    "    for i in range(0, int(z / p) + 1):\n",
    "        point = i * 4\n",
    "        h = p * i\n",
    "        v += addBase(h)\n",
    "        f.append([(point + 1), (point + 2), (point + 3), (point + 4)])\n",
    "\n",
    "    last = len(v)\n",
    "    f.append([3, 4, last - 1, last])\n",
    "    f.append([1, 3, last - 3, last - 1])\n",
    "    f.append([2, 4, last - 2, last])\n",
    "\n",
    "\n",
    "    return COLOR(BLUE)(OFFSET([0.02, 0.02, 0.02])(MKPOL([v, f, None])))\n",
    "def ggpl_chair(dx,dy,dz):\n",
    "    leg_front = COLOR(BLACK) (CYLINDER([r,dz/3])(100))\n",
    "    leg_front1 = T(1)(dx)(leg_front)\n",
    "    leg_front2 = T([1,2])([dx,dy])(leg_front)\n",
    "    leg_back = COLOR(BLACK) (CYLINDER([r,(dz*3)/4])(100))\n",
    "    leg_back2 = T(2)(dy)(leg_back)\n",
    "    sit = COLOR((RED)) (CUBOID([dx+(r*2),dy+(r*2),.05]))\n",
    "    back = COLOR(RED) (CUBOID([.05,dy+(r*2),dz/4]))\n",
    "    \n",
    "    sit = T([1,2,3])([-r,-r,dz/3])(sit)\n",
    "    back = T([1,2,3])([-r,-r,(dz*3)/4])(back)\n",
    "    chair = STRUCT([leg_front1,leg_front2,leg_back,leg_back2,sit,back])\n",
    "    return  chair\n",
    "\n",
    "def ggpl_desk(dx,dy,dz):\n",
    "    leg_table = CYLINDER([r,dz])(100)\n",
    "    leg_table2 = T(1)(dx - .01)(leg_table)\n",
    "    leg_table3 = T([1,2,3])([0,dy - .01,0])(leg_table)\n",
    "    leg_table4 = T([1,2,3])([dx-.01,dy-.01,0])(leg_table) \n",
    "    desk = STRUCT([leg_table,leg_table2,leg_table3,leg_table4]) \n",
    "    plane = COLOR(BLACK) (CUBOID([ 2*r+dx,2*r+dy,.08]))\n",
    "    desk = STRUCT([desk,T([1,2,3])([-r,-r,dz]),plane])\n",
    "    return desk\n",
    "\n",
    "def ggpl_desk_chair(dx,dy,dz):\n",
    "    desk = T(2)(0.2)(ggpl_desk(dx,dy,dz-.3))\n",
    "    chair = R([1,2])(PI/2)(ggpl_chair((dx/3),(dy/2),dz))\n",
    "    desk_chair = STRUCT([desk,T(1)(dx*3/4+.2)(chair),T(1)(dx/2 -.2)(chair)])\n",
    "    #VIEW(desk_chair)\n",
    "    return  desk_chair\n",
    "\n",
    "def ggpl_library2(dx,dy,dz):\n",
    "    base_down = COLOR(RED) (CUBOID([dx,dy,.1]))\n",
    "    base_up = (T(3)(dz - .1)(base_down))\n",
    "    bord1 = COLOR(RED) (CUBOID([dx,.1,dz]))\n",
    "    bord2 = R([1,2])(PI/2)(bord1)\n",
    "    bord3 = T(1)(dx)(bord2) \n",
    "    set1 = (T(1)(dx/2)(bord2)) \n",
    "    set2=  (T(3)(dz/4.)(base_down))\n",
    "    set3 = (T(3)(-dz/4.)(base_up))\n",
    "    set4 = (T(3)(dz/2.)(base_down))\n",
    "    library_complete = STRUCT([base_down,base_up,bord1,bord2,bord3,set1,set2,set3,set4])\n",
    "    return library_complete\n",
    "\n",
    "def ggpl_class(dx,dy,dz):\n",
    "    lib1 = ggpl_library(1.5,1.5,3)\n",
    "    desk_chair = T(2)(-dy/5)(ggpl_desk_chair(deskx,desky,deskz))\n",
    "    return STRUCT([lib1,desk_chair])\n"
   ]
  },
  {
   "cell_type": "code",
   "execution_count": null,
   "metadata": {
    "collapsed": false
   },
   "outputs": [],
   "source": [
    "VIEW(ggpl_class(14, 10, 1.5))"
   ]
  },
  {
   "cell_type": "code",
   "execution_count": null,
   "metadata": {
    "collapsed": true
   },
   "outputs": [],
   "source": []
  }
 ],
 "metadata": {
  "kernelspec": {
   "display_name": "Python 2",
   "language": "python",
   "name": "python2"
  },
  "language_info": {
   "codemirror_mode": {
    "name": "ipython",
    "version": 2
   },
   "file_extension": ".py",
   "mimetype": "text/x-python",
   "name": "python",
   "nbconvert_exporter": "python",
   "pygments_lexer": "ipython2",
   "version": "2.7.12"
  }
 },
 "nbformat": 4,
 "nbformat_minor": 1
}
