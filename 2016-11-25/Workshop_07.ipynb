{
 "cells": [
  {
   "cell_type": "code",
   "execution_count": 14,
   "metadata": {
    "collapsed": false
   },
   "outputs": [],
   "source": [
    "from larlib import *\n",
    "from pyplasm import *\n",
    "windowX = [.04,.3,.04,.3,.04]\n",
    "windowY = [.02,.3,.04,.3,.02]\n",
    "occurWind = [[1, 1, 1, 1, 1],[1, 0, 1, 0, 1],[1, 1, 1, 1, 1],[1, 0, 1, 0, 1],[1, 1, 1, 1, 1]]\n",
    "\n",
    "\n",
    "Y = [.09, .18, .015, .15, .015, .15, .3, .15, .015, .15 ,.015, .15, .09]\n",
    "X = [.3, .2, .03, .5, .04, 1.2, .03, .2, .03, .4, .2]\n",
    "occurrencY = [[1, 1, 1, 1, 1, 1, 1, 1, 1, 1, 1, 1, 1],[1, 0, 0, 0, 0, 0, 1, 0, 0, 0, 0, 0, 1],[1, 0, 1, 1, 1, 1,1, 1, 1, 1, 1, 0, 1],[1, 0, 1, 0, 0, 0, 1, 0, 0, 0, 1, 0, 1],\n",
    "                 [1, 0, 1, 0, 1, 1, 1, 1, 1, 0, 1, 0, 1],[1, 0, 1, 0, 1, 0, 1, 0, 1, 0, 1, 0, 1],[1, 0, 1, 0, 1, 1, 1, 1, 1, 0, 1, 0, 1],[1, 0, 1, 0, 0, 0, 1, 0, 0, 0, 1, 0, 1],\n",
    "                 [1, 0, 1, 1, 1, 1, 1, 1, 1, 1, 1, 0, 1],[1, 0, 0, 0, 0, 0, 1, 0, 0, 0, 0, 0, 1],[1, 1, 1, 1, 1, 1, 1, 1, 1, 1, 1, 1, 1]]\n",
    "TRASPARENT = COLOR(Color4f([38/255.,226/255.,189/255.,1]))"
   ]
  },
  {
   "cell_type": "code",
   "execution_count": 36,
   "metadata": {
    "collapsed": true
   },
   "outputs": [],
   "source": [
    "def ggpl_window(X,Y,occurrency):\n",
    "    def window(dx,dy,dz):\n",
    "        \n",
    "        handle = COLOR(BLACK)(CUBOID([0.03,0.03,0.02]))\n",
    "        handle2 = T(3)([-.1])(handle)\n",
    "        handles = STRUCT([handle,handle2])\n",
    "        handle = T([1,2,3])([dx/2.- .1, dy/2 + .05, dz/2. + .04])(handles)\n",
    "        handle2 = T([1,2,3])([dx/2.+ .1, dy/2+ .05, dz/2. + .04])(handles)\n",
    "        \n",
    "        ggpl_final(X,Y,occurrency, dx,dy,dz)\n",
    "        final = function(X,Y,occurrency)\n",
    "        final.append(BOX([dx,dz,dy]))\n",
    "        final_tot = STRUCT(final)\n",
    "        final_tot = COLOR(WHITE)(MAP([S1,S3,S2])(PROD([final_tot, Q(dy)])))\n",
    "        \n",
    "        glass = CUBOID([dx-0.1, dy/4., dz-0.2])\n",
    "        glass = T([1,2,3])([dx*0.04,dy/8., dz*0.04])(glass)\n",
    "        glass = TRASPARENT(glass)\n",
    "        \n",
    "        return STRUCT([final_tot,handle,handle2,glass])\n",
    "    return window"
   ]
  },
  {
   "cell_type": "code",
   "execution_count": 33,
   "metadata": {
    "collapsed": true
   },
   "outputs": [],
   "source": [
    "def ggpl_door(X,Y,occurrency):\n",
    "    def door(dx,dy,dz):\n",
    "        \n",
    "        handle = COLOR(BLACK)(CUBOID([.06,.06,.04]))\n",
    "        handle2 = COLOR(BLACK)(CUBOID([.06,.15,.04]))\n",
    "        handle = T([1,2,3])([dx/2, dy, dz/2. ])(handle)\n",
    "        handle2 = T([1,2,3])([dx/2+.06, dy+.06, dz/2.])(R([1,2])(PI/2)(handle2))\n",
    "        handles = STRUCT([handle,handle2])\n",
    "\n",
    "        final = function(X,Y,occurrency)\n",
    "    \n",
    "        final.append(BOX([dx,dz,dy]))\n",
    "        final_tot = STRUCT(final)\n",
    "        final_tot = PROD([final_tot, Q(dy)])\n",
    "        final_tot = MAP([S2,S3,S1])(final_tot)\n",
    "        final_tot = S([1,2,3])([dx/SIZE([1])(final_tot)[0], dy/SIZE([2])(final_tot)[0], dz/SIZE([3])(final_tot)[0]]) (final_tot)\n",
    "        final_tot = COLOR(WHITE)(final_tot)\n",
    "        \n",
    "        glass = CUBOID([dx-0.1, dy/4., dz-0.2])\n",
    "        glass = T([1,2,3])([dx*0.04,dy/8., dz*0.04])(glass)\n",
    "        glass = TRASPARENT(glass)\n",
    "        \n",
    "        return STRUCT([final_tot, glass,handles])\n",
    "    return door"
   ]
  },
  {
   "cell_type": "code",
   "execution_count": 34,
   "metadata": {
    "collapsed": true
   },
   "outputs": [],
   "source": [
    "def function(X,Y,o):\n",
    "    f = []\n",
    "    for i in range(len(X)):\n",
    "        s = []\n",
    "        x_sum = sum(X[:i])\n",
    "        for j in range(len(Y)):\n",
    "            if(o[i][j] == 1):\n",
    "                s.append(Y[j])\n",
    "            else:\n",
    "                s.append(-Y[j])\n",
    "        f.append(PROD([ QUOTE([-x_sum, X[i]]), QUOTE(s)]))\n",
    "    return f\n",
    "\n",
    "\n",
    "def ggpl_final(X, Y, occurrency, dx, dy, dz):\n",
    "    vy = [0]*len(Y)\n",
    "    sx = sum(X)\n",
    "    sy = sum(Y)\n",
    "    for y in range(len(Y)):\n",
    "        update = 1\n",
    "        for x in range(len(X)):\n",
    "            if(occurrency[x][y] == 0):\n",
    "                update = 0\n",
    "        if(update==1):\n",
    "            sy = sy - Y[y]\n",
    "            sx = sx - X[y]\n",
    "            dx = dx - X[y]\n",
    "            dz = dz - Y[y]\n",
    "    for x in range(len(X)):\n",
    "        mx = 0\n",
    "        for y in range(len(Y)):\n",
    "            if(occurrency[x][y] == 0 and vy[y] == 0):\n",
    "                Y[y] = (dz * Y[y])/sy\n",
    "                vy[y] = 1\n",
    "                mx = 1\n",
    "            if(occurrency[x][y] == 0 and vy[y] == 1 and not mx):\n",
    "                mx = 1\n",
    "        if(mx):\n",
    "            X[x] = (dx * X[x])/sx"
   ]
  },
  {
   "cell_type": "code",
   "execution_count": 38,
   "metadata": {
    "collapsed": false
   },
   "outputs": [
    {
     "data": {
      "text/plain": [
       "<pyplasm.xgepy.Hpc; proxy of <Swig Object of type 'std::shared_ptr< Hpc > *' at 0x000000000C67AAE0> >"
      ]
     },
     "execution_count": 38,
     "metadata": {},
     "output_type": "execute_result"
    }
   ],
   "source": [
    "\n",
    "VIEW(ggpl_window(windowX,windowY,occurWind)(1.8, 0.4, 3))\n",
    "VIEW(ggpl_door(X, Y, occurrencY)(1.8, 0.4, 3))\n"
   ]
  },
  {
   "cell_type": "code",
   "execution_count": 27,
   "metadata": {
    "collapsed": false
   },
   "outputs": [
    {
     "data": {
      "text/plain": [
       "<pyplasm.xgepy.Hpc; proxy of <Swig Object of type 'std::shared_ptr< Hpc > *' at 0x000000000C67A480> >"
      ]
     },
     "execution_count": 27,
     "metadata": {},
     "output_type": "execute_result"
    }
   ],
   "source": []
  },
  {
   "cell_type": "code",
   "execution_count": null,
   "metadata": {
    "collapsed": true
   },
   "outputs": [],
   "source": []
  }
 ],
 "metadata": {
  "kernelspec": {
   "display_name": "Python 2",
   "language": "python",
   "name": "python2"
  },
  "language_info": {
   "codemirror_mode": {
    "name": "ipython",
    "version": 2
   },
   "file_extension": ".py",
   "mimetype": "text/x-python",
   "name": "python",
   "nbconvert_exporter": "python",
   "pygments_lexer": "ipython2",
   "version": "2.7.12"
  }
 },
 "nbformat": 4,
 "nbformat_minor": 1
}
