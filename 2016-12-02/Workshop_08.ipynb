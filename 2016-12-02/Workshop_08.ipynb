{
 "cells": [
  {
   "cell_type": "code",
   "execution_count": 1,
   "metadata": {
    "collapsed": false
   },
   "outputs": [
    {
     "name": "stdout",
     "output_type": "stream",
     "text": [
      "Evaluating fenvs.py..\n",
      "...fenvs.py imported in 0.137893877181 seconds\n"
     ]
    }
   ],
   "source": [
    "from pyplasm import *\n",
    "import csv"
   ]
  },
  {
   "cell_type": "code",
   "execution_count": 2,
   "metadata": {
    "collapsed": true
   },
   "outputs": [],
   "source": [
    "def readFile(nome_file):\n",
    "    punti = []\n",
    "    indici = []\n",
    "    i = 0\n",
    "    with open(nome_file, 'rb') as csvfile:\n",
    "        buildReader = csv.reader(csvfile)\n",
    "        for r in buildReader:\n",
    "            punti.append([float(r[0]), float(r[1])])\n",
    "            punti.append([float(r[2]), float(r[3])])\n",
    "            i += 2\n",
    "            indici.append([i-1, i])\n",
    "    return S([1])([-1])(MKPOL([punti, indici, None]))"
   ]
  },
  {
   "cell_type": "code",
   "execution_count": 5,
   "metadata": {
    "collapsed": true
   },
   "outputs": [],
   "source": [
    "def mySimpleHouse():\n",
    "    muriEsterniHPC= readFile(pathExternalWalls)\n",
    "    muriEsterniOff = OFFSET([externalWallsThickness,externalWallsThickness])(muriEsterniHPC)\n",
    "    muriEsterniProd = PROD([muriEsterniOff, QUOTE([houseHeight])])\n",
    "    \n",
    "    # Internal Walls\n",
    "    muriInterniHPC = readFile(pathInternalWalls)\n",
    "    muriInterniOff = OFFSET([internalWallsThickness,internalWallsThickness])(muriInterniHPC)\n",
    "    muriInterniDifferenza = DIFF([muriInterniOff, muriEsterniOff])\n",
    "    muriInterniProd = PROD([muriInterniDifferenza, QUOTE([houseHeight])])\n",
    "    muriInterniColorati = COLOR(WHITE)(muriInterniProd)\n",
    "    \n",
    "    floor = COLOR(BLACK)(SOLIDIFY(muriEsterniHPC))\n",
    "    walls = STRUCT([floor,muriInterniColorati])\n",
    "    return walls"
   ]
  },
  {
   "cell_type": "code",
   "execution_count": 7,
   "metadata": {
    "collapsed": true
   },
   "outputs": [],
   "source": [
    "pathExternalWalls = \".\\linee\\Mura Esterne.lines\"\n",
    "pathInternalWalls = \".\\linee\\Pareti interne.lines\"\n",
    "internalWallsThickness = 2\n",
    "houseHeight = 40\n",
    "externalWallsThickness = 5"
   ]
  },
  {
   "cell_type": "code",
   "execution_count": 8,
   "metadata": {
    "collapsed": false
   },
   "outputs": [
    {
     "ename": "IOError",
     "evalue": "[Errno 2] No such file or directory: '.\\\\linee\\\\Mura Esterne.lines'",
     "output_type": "error",
     "traceback": [
      "\u001b[0;31m---------------------------------------------------------------------------\u001b[0m",
      "\u001b[0;31mIOError\u001b[0m                                   Traceback (most recent call last)",
      "\u001b[0;32m<ipython-input-8-d2e364f38916>\u001b[0m in \u001b[0;36m<module>\u001b[0;34m()\u001b[0m\n\u001b[0;32m----> 1\u001b[0;31m \u001b[0mVIEW\u001b[0m\u001b[1;33m(\u001b[0m\u001b[0mmySimpleHouse\u001b[0m\u001b[1;33m(\u001b[0m\u001b[1;33m)\u001b[0m\u001b[1;33m)\u001b[0m\u001b[1;33m\u001b[0m\u001b[0m\n\u001b[0m",
      "\u001b[0;32m<ipython-input-5-d10376a14358>\u001b[0m in \u001b[0;36mmySimpleHouse\u001b[0;34m()\u001b[0m\n\u001b[1;32m      1\u001b[0m \u001b[1;32mdef\u001b[0m \u001b[0mmySimpleHouse\u001b[0m\u001b[1;33m(\u001b[0m\u001b[1;33m)\u001b[0m\u001b[1;33m:\u001b[0m\u001b[1;33m\u001b[0m\u001b[0m\n\u001b[0;32m----> 2\u001b[0;31m     \u001b[0mmuriEsterniHPC\u001b[0m\u001b[1;33m=\u001b[0m \u001b[0mreadFile\u001b[0m\u001b[1;33m(\u001b[0m\u001b[0mpathExternalWalls\u001b[0m\u001b[1;33m)\u001b[0m\u001b[1;33m\u001b[0m\u001b[0m\n\u001b[0m\u001b[1;32m      3\u001b[0m     \u001b[0mmuriEsterniOff\u001b[0m \u001b[1;33m=\u001b[0m \u001b[0mOFFSET\u001b[0m\u001b[1;33m(\u001b[0m\u001b[1;33m[\u001b[0m\u001b[0mexternalWallsThickness\u001b[0m\u001b[1;33m,\u001b[0m\u001b[0mexternalWallsThickness\u001b[0m\u001b[1;33m]\u001b[0m\u001b[1;33m)\u001b[0m\u001b[1;33m(\u001b[0m\u001b[0mmuriEsterniHPC\u001b[0m\u001b[1;33m)\u001b[0m\u001b[1;33m\u001b[0m\u001b[0m\n\u001b[1;32m      4\u001b[0m     \u001b[0mmuriEsterniProd\u001b[0m \u001b[1;33m=\u001b[0m \u001b[0mPROD\u001b[0m\u001b[1;33m(\u001b[0m\u001b[1;33m[\u001b[0m\u001b[0mmuriEsterniOff\u001b[0m\u001b[1;33m,\u001b[0m \u001b[0mQUOTE\u001b[0m\u001b[1;33m(\u001b[0m\u001b[1;33m[\u001b[0m\u001b[0mhouseHeight\u001b[0m\u001b[1;33m]\u001b[0m\u001b[1;33m)\u001b[0m\u001b[1;33m]\u001b[0m\u001b[1;33m)\u001b[0m\u001b[1;33m\u001b[0m\u001b[0m\n\u001b[1;32m      5\u001b[0m \u001b[1;33m\u001b[0m\u001b[0m\n",
      "\u001b[0;32m<ipython-input-2-ce5adbe5263e>\u001b[0m in \u001b[0;36mreadFile\u001b[0;34m(nome_file)\u001b[0m\n\u001b[1;32m      3\u001b[0m     \u001b[0mindici\u001b[0m \u001b[1;33m=\u001b[0m \u001b[1;33m[\u001b[0m\u001b[1;33m]\u001b[0m\u001b[1;33m\u001b[0m\u001b[0m\n\u001b[1;32m      4\u001b[0m     \u001b[0mi\u001b[0m \u001b[1;33m=\u001b[0m \u001b[1;36m0\u001b[0m\u001b[1;33m\u001b[0m\u001b[0m\n\u001b[0;32m----> 5\u001b[0;31m     \u001b[1;32mwith\u001b[0m \u001b[0mopen\u001b[0m\u001b[1;33m(\u001b[0m\u001b[0mnome_file\u001b[0m\u001b[1;33m,\u001b[0m \u001b[1;34m'rb'\u001b[0m\u001b[1;33m)\u001b[0m \u001b[1;32mas\u001b[0m \u001b[0mcsvfile\u001b[0m\u001b[1;33m:\u001b[0m\u001b[1;33m\u001b[0m\u001b[0m\n\u001b[0m\u001b[1;32m      6\u001b[0m         \u001b[0mbuildReader\u001b[0m \u001b[1;33m=\u001b[0m \u001b[0mcsv\u001b[0m\u001b[1;33m.\u001b[0m\u001b[0mreader\u001b[0m\u001b[1;33m(\u001b[0m\u001b[0mcsvfile\u001b[0m\u001b[1;33m)\u001b[0m\u001b[1;33m\u001b[0m\u001b[0m\n\u001b[1;32m      7\u001b[0m         \u001b[1;32mfor\u001b[0m \u001b[0mr\u001b[0m \u001b[1;32min\u001b[0m \u001b[0mbuildReader\u001b[0m\u001b[1;33m:\u001b[0m\u001b[1;33m\u001b[0m\u001b[0m\n",
      "\u001b[0;31mIOError\u001b[0m: [Errno 2] No such file or directory: '.\\\\linee\\\\Mura Esterne.lines'"
     ]
    }
   ],
   "source": [
    "VIEW(mySimpleHouse())"
   ]
  },
  {
   "cell_type": "code",
   "execution_count": null,
   "metadata": {
    "collapsed": true
   },
   "outputs": [],
   "source": []
  }
 ],
 "metadata": {
  "kernelspec": {
   "display_name": "Python 2",
   "language": "python",
   "name": "python2"
  },
  "language_info": {
   "codemirror_mode": {
    "name": "ipython",
    "version": 2
   },
   "file_extension": ".py",
   "mimetype": "text/x-python",
   "name": "python",
   "nbconvert_exporter": "python",
   "pygments_lexer": "ipython2",
   "version": "2.7.12"
  }
 },
 "nbformat": 4,
 "nbformat_minor": 1
}
