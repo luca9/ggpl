{
 "cells": [
  {
   "cell_type": "code",
   "execution_count": 4,
   "metadata": {
    "collapsed": false
   },
   "outputs": [
    {
     "name": "stdout",
     "output_type": "stream",
     "text": [
      "Evaluating fenvs.py..\n",
      "...fenvs.py imported in 0.0173440673913 seconds\n"
     ]
    }
   ],
   "source": [
    "from pyplasm import *\n",
    "import csv"
   ]
  },
  {
   "cell_type": "code",
   "execution_count": 5,
   "metadata": {
    "collapsed": true
   },
   "outputs": [],
   "source": [
    "def readFile(nome_file):\n",
    "    punti = []\n",
    "    indici = []\n",
    "    i = 0\n",
    "    with open(nome_file, 'rb') as csvfile:\n",
    "        buildReader = csv.reader(csvfile)\n",
    "        for r in buildReader:\n",
    "            punti.append([float(r[0]), float(r[1])])\n",
    "            punti.append([float(r[2]), float(r[3])])\n",
    "            i += 2\n",
    "            indici.append([i-1, i])\n",
    "    return S([1])([-1])(MKPOL([punti, indici, None]))"
   ]
  },
  {
   "cell_type": "code",
   "execution_count": 6,
   "metadata": {
    "collapsed": true
   },
   "outputs": [],
   "source": [
    "def mySimpleHouse():\n",
    "    muriEsterniHPC= readFile(pathExternalWalls)\n",
    "    muriEsterniOff = OFFSET([externalWallsThickness,externalWallsThickness])(muriEsterniHPC)\n",
    "    muriEsterniProd = PROD([muriEsterniOff, QUOTE([houseHeight])])\n",
    "    \n",
    "    # Internal Walls\n",
    "    muriInterniHPC = readFile(pathInternalWalls)\n",
    "    muriInterniOff = OFFSET([internalWallsThickness,internalWallsThickness])(muriInterniHPC)\n",
    "    muriInterniDifferenza = DIFF([muriInterniOff, muriEsterniOff])\n",
    "    muriInterniProd = PROD([muriInterniDifferenza, QUOTE([houseHeight])])\n",
    "    muriInterniColorati = COLOR(WHITE)(muriInterniProd)\n",
    "    \n",
    "    floor = COLOR(BLACK)(SOLIDIFY(muriEsterniHPC))\n",
    "    walls = STRUCT([floor,muriInterniColorati])\n",
    "    return walls"
   ]
  },
  {
   "cell_type": "code",
   "execution_count": 7,
   "metadata": {
    "collapsed": true
   },
   "outputs": [],
   "source": [
    "pathExternalWalls = \"C:/Users/luca/Mura_Esterne.lines\"\n",
    "pathInternalWalls = \"C:/Users/luca/Mura_Interne.lines\"\n",
    "internalWallsThickness = 2\n",
    "houseHeight = 40\n",
    "externalWallsThickness = 5"
   ]
  },
  {
   "cell_type": "code",
   "execution_count": 8,
   "metadata": {
    "collapsed": false
   },
   "outputs": [
    {
     "data": {
      "text/plain": [
       "<pyplasm.xgepy.Hpc; proxy of <Swig Object of type 'std::shared_ptr< Hpc > *' at 0x000000000716DC90> >"
      ]
     },
     "execution_count": 8,
     "metadata": {},
     "output_type": "execute_result"
    }
   ],
   "source": [
    "VIEW(mySimpleHouse())"
   ]
  },
  {
   "cell_type": "code",
   "execution_count": null,
   "metadata": {
    "collapsed": true
   },
   "outputs": [],
   "source": []
  }
 ],
 "metadata": {
  "kernelspec": {
   "display_name": "Python 2",
   "language": "python",
   "name": "python2"
  },
  "language_info": {
   "codemirror_mode": {
    "name": "ipython",
    "version": 2
   },
   "file_extension": ".py",
   "mimetype": "text/x-python",
   "name": "python",
   "nbconvert_exporter": "python",
   "pygments_lexer": "ipython2",
   "version": "2.7.12"
  }
 },
 "nbformat": 4,
 "nbformat_minor": 1
}
