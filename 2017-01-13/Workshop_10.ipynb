{
 "cells": [
  {
   "cell_type": "code",
   "execution_count": 16,
   "metadata": {
    "collapsed": false
   },
   "outputs": [],
   "source": [
    "%run \"library/Workshop_09.ipynb\" \n",
    "%run \"library/Workshop_08.ipynb\" \n",
    "%run \"library/Workshop_07.ipynb\" \n",
    "%run \"library/Workshop_03.ipynb\"\n",
    "import csv\n",
    "from pyplasm import *\n",
    "\n",
    "lines = [\"_externalWalls_\", \"_innerWalls_\", \"_doors_\", \"_windows_\", \"_ladders_\"]\n",
    "\n",
    "doorY = [.2,.18,.08,.18,.08,.18,.4,.18,.08,.18,.08,.18,.2]\n",
    "doorX = [.2,.5,.2,1.8,.08,.18,.08,.18,.2]\n",
    "doorOccurrency = [[True]*13,\n",
    "                    [True, False, True, False, True, False, True, False, True, False, True, False, True],[True]*13,\n",
    "                    [True, False, True, False, True, False, True, False, True, False, True, False, True],\n",
    "                    [True, False, True, False, True, True, True, True, True, False, True, False, True],\n",
    "                    [True, False, True, False, False, False, True, False, False, False, True, False, True],\n",
    "                    [True, False, True, True, True, True, True, True, True, True, True, False, True],\n",
    "                    [True, False, False, False, False, False, True, False, False, False, False, False, True],\n",
    "                    [True]*13]\n",
    "\n",
    "windowY = [0.04,0.04,0.2,0.02,0.16,0.02,0.2,0.04,0.04]\n",
    "windowX = [0.02,0.8,0.05,0.02,0.4,0.02,0.4,0.05,0.04]\n",
    "windowOccurrency = [[True]*9,\n",
    "                    [True, False, False, False, False, False, False, False, True],\n",
    "                    [True]*9,\n",
    "                    [True]*9,\n",
    "                    [True, True, False, True, False, True, False, True, True],\n",
    "                    [True]*9,\n",
    "                    [True, True, False, True, False, True, False, True, True],\n",
    "                    [True]*9,\n",
    "                    [True]*9]\n",
    "\n",
    "#first model\n",
    "externalWallsFirstModel = mySimpleHouse()\n",
    "xFactorFirstModel = 15/SIZE([1])(externalWallsFirstModel)[0]\n",
    "yFactorFirstModel = 15.1/SIZE([2])(externalWallsFirstModel)[0]\n",
    "zFactorFirstModel = xFactorFirstModel\n",
    "\n",
    "def multi_storey_house(nFloors, modelString, xFactor, yFactor, zFactor):\n",
    "    def build_windows_and_doors(window, door):\n",
    "        def build_floors(lines, angle, height):\n",
    "            all_floor = []\n",
    "            with open(\"linee/\" +modelString + \"_externalWalls_1.lines\") as file:\n",
    "                reader = csv.reader(file, delimiter=\",\")\n",
    "                new_verts = []\n",
    "                for row in reader:\n",
    "                    new_verts.append([float(row[0]), float(row[1])])\n",
    "                roofModel = roof_generator.ggpl_generate_structure(new_verts, angle, height)\n",
    "                roofModel = T([3])([nFloors*3/zFactor])(roofModel)\n",
    "                roofModel = S([1,2,3])([xFactor*1.09, yFactor*1.09, zFactor])(roofModel)\n",
    "                roofModel = T([1,2])([-SIZE([1])(roofModel)[0]*0.05, -SIZE([2])(roofModel)[0]*0.05])(roofModel)\n",
    "\n",
    "            for i in range(nFloors):\n",
    "                floor_lines = [\"linee/\" +modelString + lines[0] + str(i+1) + '.lines',\"linee/\" +modelString + lines[1] + str(i+1) + '.lines', \n",
    "                \"linee/\" +modelString + lines[2] + str(i+1) + '.lines',\"linee/\" +modelString + lines[3] + str(i+1) + '.lines', \n",
    "                \"linee/\" +modelString + lines[4] + str(i) + '.lines',\"linee/\" +modelString + lines[4] + str(i+1) + '.lines']\n",
    "                floor = walls_generator.ggpl_building_house(floor_lines, \n",
    "                    doors_and_windows_generator.window(window[0], window[1], window[2]), \n",
    "                    doors_and_windows_generator.door(door[0], door[1], door[2]), \n",
    "                    stairs_generator, i, nFloors-1)\n",
    "                all_floor.append(floor)\n",
    "            all_floor = STRUCT(all_floor)\n",
    "            return VIEW(STRUCT([all_floor, roofModel]))\n",
    "        return build_floors\n",
    "    return build_windows_and_doors"
   ]
  },
  {
   "cell_type": "code",
   "execution_count": null,
   "metadata": {
    "collapsed": true
   },
   "outputs": [],
   "source": []
  }
 ],
 "metadata": {
  "kernelspec": {
   "display_name": "Python 2",
   "language": "python",
   "name": "python2"
  },
  "language_info": {
   "codemirror_mode": {
    "name": "ipython",
    "version": 2
   },
   "file_extension": ".py",
   "mimetype": "text/x-python",
   "name": "python",
   "nbconvert_exporter": "python",
   "pygments_lexer": "ipython2",
   "version": "2.7.12"
  }
 },
 "nbformat": 4,
 "nbformat_minor": 1
}
