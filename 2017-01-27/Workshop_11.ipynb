{
 "cells": [
  {
   "cell_type": "code",
   "execution_count": null,
   "metadata": {
    "collapsed": false,
    "scrolled": true
   },
   "outputs": [],
   "source": [
    "from pyplasm import *\n",
    "import numpy \n",
    "import sys, os"
   ]
  },
  {
   "cell_type": "code",
   "execution_count": null,
   "metadata": {
    "collapsed": false
   },
   "outputs": [],
   "source": [
    "sys.setrecursionlimit(1500)\n",
    "\n",
    "grassTexture = \"C:/Users/luca/Desktop/GRAFICA/erba.jpg\"\n",
    "asphaltTexture = \"C:/Users/luca/Desktop/GRAFICA/asfalto.jpg\"\n",
    "\n",
    "zero = CUBOID([.0,.0,.0])\n",
    "baseStruct = STRUCT([zero])\n",
    "level_height = [30.0,30.0,20.0,30.0,30.0,20.0]\n",
    "heights = [60.0,20.0,3.5,60.0,20.0]\n",
    "\n",
    "def readSvg(l,reading_level,path):\n",
    "   file = open(\"C:/Users/luca/File-import/level-\"+path+\".lines\",\"r\")\n",
    "   data = file.read()\n",
    "   n = countFileDirectory(\"C:/Users/luca/File-import/\")\n",
    "   file.close()\n",
    "   d = data.splitlines()\n",
    "   reading_level = reading_level + [d]\n",
    "   if l!=n-1:\n",
    "     return readSvg(l+1,reading_level,path)\n",
    "   else:\n",
    "     return reading_level\n",
    " \n",
    "\n",
    "levelBase = readSvg(0,[],\"base\")\n",
    "levelStreet = readSvg(0,[],\"house\")\n",
    "levelHouse = readSvg(0,[],\"street\")\n",
    "\n",
    "def parseLines(l,i, params):\n",
    "  string_line = params[l][i]\n",
    "  split_line = string_line.split(\",\")\n",
    "  array_line = np.array(split_line, dtype=float)\n",
    "  return array_line"
   ]
  },
  {
   "cell_type": "code",
   "execution_count": null,
   "metadata": {
    "collapsed": false
   },
   "outputs": [],
   "source": [
    "def buildGarden(i,s1):\n",
    "  if i < len(levelBase[0]):\n",
    "    params = parseLines(0,i,levelBase)\n",
    "    a_pol = POLYLINE([[params[0],params[1]],[params[2],params[3]]])\n",
    "    a_off = OFFSET([4.0, 5.5, 5.0])(a_pol)\n",
    "    s2 = STRUCT([a_off, s1])\n",
    "    return buildGarden(i+1,s2)\n",
    "  else:\n",
    "    s1 = SOLIDIFY(SKEL_2(s1))\n",
    "    s1 = TEXTURE([grassTexture, TRUE, FALSE, 1, 1, 0, 10, 1])(s1)\n",
    "    return s1\n",
    "\n",
    "def buildStreet(i,s1):\n",
    "  if i < len(levelStreet[0]):\n",
    "    params = parseLines(0,i,levelStreet)\n",
    "    a_pol = POLYLINE([[params[0],params[1]],[params[2],params[3]]])\n",
    "    a_off = OFFSET([0.0, 0.0, 5.0])(a_pol)\n",
    "    s2 = STRUCT([a_off, s1])\n",
    "    return buildStreet(i+1,s2)\n",
    "  else:\n",
    "    s1=STRUCT([T(3)(5.0),s1])\n",
    "    return s1\n",
    "\n",
    "def buildHouseBase(i,s1):\n",
    "  if i < len(levelHouse[0]):\n",
    "    params = parseLines(0,i,levelHouse)\n",
    "    a_pol = POLYLINE([[params[0],params[1]],[params[2],params[3]]])\n",
    "    a_off = OFFSET([0.0, 0.0, 5.0])(a_pol)\n",
    "    s2 = STRUCT([a_off, s1])\n",
    "    return buildHouseBase(i+1,s2)\n",
    "  else:\n",
    "    s1 = SOLIDIFY(SKEL_2(s1))\n",
    "    s1 = TEXTURE([asphaltTexture, TRUE, FALSE, 1, 1, 0, 1, 1])(s1)\n",
    "    return s1\n",
    "\n",
    "def buildHouse():\n",
    "  garden_level = buildGarden(0,baseStruct)\n",
    "  street_level = buildStreet(0,baseStruct)\n",
    "  house_level = buildHouseBase(0,baseStruct)\n",
    "  house=STRUCT([baseStruct,T(3)(0.0),garden_level])\n",
    "  house=STRUCT([house,T(3)(5.0),street_level])\n",
    "  house=STRUCT([house,T(3)(5.0),house_level])\n",
    "  return house\n",
    "\n",
    "def createCity(i,s1,d1,d2):\n",
    "  if i < 1:\n",
    "    h = buildHouse()\n",
    "    h1=STRUCT([T(1)(d1),h])\n",
    "    h2=STRUCT([T(1)(d1+1900),h])\n",
    "    h3=STRUCT([T(2)(d2+2500),h])\n",
    "    h4=STRUCT([T([1,2])([d1+1900,d2+2500]),h])\n",
    "    s1= STRUCT([h1,h2,h3,h4,s1])\n",
    "    s2=STRUCT([T(1)((d1+1900)*2),s1])\n",
    "    s1= STRUCT([s1,s2])\n",
    "    return createCity(i+1,s1,d1+1900.0,d2+2500)\n",
    "  else:\n",
    "    VIEW(s1)\n",
    "createCity(0,baseStruct,0.0)"
   ]
  },
  {
   "cell_type": "code",
   "execution_count": null,
   "metadata": {
    "collapsed": true
   },
   "outputs": [],
   "source": []
  }
 ],
 "metadata": {
  "kernelspec": {
   "display_name": "Python 2",
   "language": "python",
   "name": "python2"
  },
  "language_info": {
   "codemirror_mode": {
    "name": "ipython",
    "version": 2
   },
   "file_extension": ".py",
   "mimetype": "text/x-python",
   "name": "python",
   "nbconvert_exporter": "python",
   "pygments_lexer": "ipython2",
   "version": "2.7.12"
  }
 },
 "nbformat": 4,
 "nbformat_minor": 1
}
