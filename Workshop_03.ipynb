{
 "cells": [
  {
   "cell_type": "code",
   "execution_count": 70,
   "metadata": {
    "collapsed": false
   },
   "outputs": [],
   "source": [
    "from larlib import *\n",
    "def generateStep():\n",
    "    return PROD([MKPOL([[[0,0],[1,1],[1,2],[0,2]],[[1,2,3,4]],[1]]),QUOTE([1])])\n",
    "\"\"\"Funzione che genera uno scalino\"\"\"\n",
    "def generateMultipleStep(numberOfSteps):\n",
    "    vector = []\n",
    "    for i in range(numberOfSteps-1):\n",
    "        vector.append(generateStep())\n",
    "        vector.append(T([1,2])([1,1]))\n",
    "    vector.append(generateStep())\n",
    "    return STRUCT(vector)\n",
    "\"\"\"Funzione che genera una rampa di scalini\"\"\"\n",
    "def generateTwoMultipleSteps(numberSteps):\n",
    "    structure = STRUCT([\n",
    "            generateMultipleStep(numberSteps),\n",
    "            T([1,2,3])([numberSteps,numberSteps,1]),\n",
    "            S(1)(-1.0),\n",
    "            generateMultipleStep(numberSteps),\n",
    "            T([1,2,3])([numberSteps+1,numberSteps,0]),\n",
    "            S(1)(1.0),\n",
    "            generateMultipleStep(numberSteps)\n",
    "        ])\n",
    "    return structure;\n",
    "\"\"\"Funzione che genera due rampe di scalini\"\"\"\n",
    "def genUnitaryStair(runNumSteps):\n",
    "    compless = STRUCT([\n",
    "            generateTwoMultipleSteps(runNumSteps),\n",
    "            T([1,2])([runNumSteps,runNumSteps])(CUBOID([2,1,2])),\n",
    "            T(1)(-1.0),\n",
    "            CUBE(1),\n",
    "            T(2)(runNumSteps*2),\n",
    "            T(3)(1),\n",
    "            CUBE(1),\n",
    "        ])\n",
    "    return MAP([S1,S3,S2])(STRUCT([T(1)(1),compless]))\n",
    "def ggpl_shaped_stairs(dx,dy,dz):    \n",
    "    model = genUnitaryStair(int(dz))\n",
    "    modelSize = SIZE([1,2,3])(model)\n",
    "    return STRUCT([\n",
    "            S(1)(dx/modelSize[0]),\n",
    "            S(2)(dy/modelSize[1]),\n",
    "            S(3)(dz/modelSize[2]),\n",
    "            model\n",
    "        ])\n",
    "stairExample=ggpl_shaped_stairs(8,5,7)\n",
    "if stairExample: #Check if errors happened\n",
    "    VIEW(stairExample)"
   ]
  },
  {
   "cell_type": "code",
   "execution_count": null,
   "metadata": {
    "collapsed": true
   },
   "outputs": [],
   "source": []
  }
 ],
 "metadata": {
  "kernelspec": {
   "display_name": "Python 2",
   "language": "python",
   "name": "python2"
  },
  "language_info": {
   "codemirror_mode": {
    "name": "ipython",
    "version": 2
   },
   "file_extension": ".py",
   "mimetype": "text/x-python",
   "name": "python",
   "nbconvert_exporter": "python",
   "pygments_lexer": "ipython2",
   "version": "2.7.12"
  }
 },
 "nbformat": 4,
 "nbformat_minor": 1
}
