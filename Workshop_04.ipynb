{
 "cells": [
  {
   "cell_type": "code",
   "execution_count": 20,
   "metadata": {
    "collapsed": false
   },
   "outputs": [
    {
     "data": {
      "text/plain": [
       "'Definisco una funzione che tramite MKPOL mi genera \\n dei poligoni a seconda dei vertici definiti e delle celle definite.\\n Inoltre creo dei bordi tramite OFFSET e assemblo le due strutture tramite STRUCT'"
      ]
     },
     "execution_count": 20,
     "metadata": {},
     "output_type": "execute_result"
    }
   ],
   "source": [
    "from pyplasm import *\n",
    "def ggpl_roofBuilder(verts, cells):\n",
    "    tetto = MKPOL([verts,cells,None])\n",
    "    struttura = COLOR(RED)(OFFSET([0.5, 0.5, 0.5])(SKEL_1(tetto)))\n",
    "    complesso = STRUCT([tetto,struttura])\n",
    "    return complesso\n",
    "\"\"\"Definisco una funzione che tramite MKPOL mi genera \n",
    " dei poligoni a seconda dei vertici definiti e delle celle definite.\n",
    " Inoltre creo dei bordi tramite OFFSET e assemblo le due strutture tramite STRUCT\"\"\"\n",
    "\n"
   ]
  },
  {
   "cell_type": "code",
   "execution_count": null,
   "metadata": {
    "collapsed": false
   },
   "outputs": [],
   "source": [
    "\n",
    "vertici=[[0,0,0],[2.5,0,0],[5,0,0],[7.5,0,0],[10,0,0],[10,5,0],[7.5,5,0],[5,5,0],[2.5,5,0],[0,5,0],[0,2.5,4],[2.5,2.5,4],[5,2.5,4],[7.5,2.5,4],[10,2.5,4],[1.25,0,4],[1.25,2.5,4],[8.75,0,4],[8.75,2.5,4]]\n",
    "celle=[[1,5,15,11],[10,11,15,6],[1,2,16],[16,17],[17,2],[17,1],[4,5,18],[18,19],[19,5],[19,4]]\n",
    "\n",
    "VIEW(ggpl_roofBuilder(vertici,celle))"
   ]
  },
  {
   "cell_type": "code",
   "execution_count": null,
   "metadata": {
    "collapsed": true
   },
   "outputs": [],
   "source": []
  }
 ],
 "metadata": {
  "kernelspec": {
   "display_name": "Python 2",
   "language": "python",
   "name": "python2"
  },
  "language_info": {
   "codemirror_mode": {
    "name": "ipython",
    "version": 2
   },
   "file_extension": ".py",
   "mimetype": "text/x-python",
   "name": "python",
   "nbconvert_exporter": "python",
   "pygments_lexer": "ipython2",
   "version": "2.7.12"
  }
 },
 "nbformat": 4,
 "nbformat_minor": 1
}
