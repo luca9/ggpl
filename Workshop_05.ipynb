{
 "cells": [
  {
   "cell_type": "code",
   "execution_count": 1,
   "metadata": {
    "collapsed": false
   },
   "outputs": [
    {
     "name": "stdout",
     "output_type": "stream",
     "text": [
      "Evaluating fenvs.py..\n",
      "...fenvs.py imported in 0.0155835869709 seconds\n"
     ]
    },
    {
     "name": "stderr",
     "output_type": "stream",
     "text": [
      "c:\\python27\\lib\\site-packages\\larlib\\larstruct.py:233: FutureWarning: comparison to `None` will result in an elementwise object comparison in the future.\n",
      "  self.body = [item for item in data if item != None]\n"
     ]
    }
   ],
   "source": [
    "from pyplasm import *\n",
    "from larlib import *"
   ]
  },
  {
   "cell_type": "code",
   "execution_count": 2,
   "metadata": {
    "collapsed": true
   },
   "outputs": [],
   "source": [
    "def ggpl_library(x, y, z):\n",
    "    p = 0.6\n",
    "    v = []\n",
    "    f = []\n",
    "\n",
    "    base = (0, 0, 0), (x, 0, 0), (0, y, 0), (x, y, 0)\n",
    "\n",
    "    addZ = lambda a, z: [a[0], a[1], a[2] + z]\n",
    "    addBase = lambda z: [addZ(base[0], z), addZ(base[1], z), addZ(base[2], z), addZ(base[3], z)]\n",
    "\n",
    "    for i in range(0, int(z / p) + 1):\n",
    "        point = i * 4\n",
    "        h = p * i\n",
    "        v += addBase(h)\n",
    "        f.append([(point + 1), (point + 2), (point + 3), (point + 4)])\n",
    "\n",
    "    last = len(v)\n",
    "    f.append([3, 4, last - 1, last])\n",
    "    f.append([1, 3, last - 3, last - 1])\n",
    "    f.append([2, 4, last - 2, last])\n",
    "\n",
    "\n",
    "    return COLOR(BLUE)(OFFSET([0.02, 0.02, 0.02])(MKPOL([v, f, None])))"
   ]
  },
  {
   "cell_type": "code",
   "execution_count": null,
   "metadata": {
    "collapsed": false
   },
   "outputs": [],
   "source": [
    "VIEW(STRUCT([ggpl_library(4,0.6,5),T(1)(4.04), ggpl_library(4,0.6,5), T(1)(4.04), ggpl_library(4,0.6,5) ]))"
   ]
  },
  {
   "cell_type": "code",
   "execution_count": null,
   "metadata": {
    "collapsed": true
   },
   "outputs": [],
   "source": []
  }
 ],
 "metadata": {
  "kernelspec": {
   "display_name": "Python 2",
   "language": "python",
   "name": "python2"
  }
 },
 "nbformat": 4,
 "nbformat_minor": 1
}
