{
 "cells": [
  {
   "cell_type": "code",
   "execution_count": 34,
   "metadata": {
    "collapsed": false
   },
   "outputs": [],
   "source": [
    "from pyplasm import *"
   ]
  },
  {
   "cell_type": "code",
   "execution_count": 35,
   "metadata": {
    "collapsed": true
   },
   "outputs": [],
   "source": [
    "def perimetro():\n",
    "    vertici = [[0,0,0],[0,5,0],[5,5,0],[5,10,0],[10,10,0],[10,0,0]]\n",
    "    celle = [[1,2],[2,3],[3,4],[4,5],[5,6],[6,1]]\n",
    "    \n",
    "    direzione = ([[0,0,0],[0,10,0],1],[[0,10,0],[10,10,0],-2],[[10,10,0],[10,20,0],1],[[10,20,0],[20,20,0],-2],[[20,20,0],[20,0,0],-1],[[20,0,0],[0,0,0],2])\n",
    "    perimetro = MKPOL([vertici,celle,1]);  \n",
    "    return ([perimetro,direzione,vertici])"
   ]
  },
  {
   "cell_type": "code",
   "execution_count": 36,
   "metadata": {
    "collapsed": true
   },
   "outputs": [],
   "source": [
    "# per calcolare l'inclinazione del tetto data un'altezza e l'angolo, che dev'essere compreso tra 0 e 90 gradi\n",
    "def calcoloInclinazione(altezza, angolo1):\n",
    "    angolo2 = 180 - angolo1 - 90\n",
    "    inclinazione = altezza * math.tan(angolo2)\n",
    "    return (inclinazione)\n"
   ]
  },
  {
   "cell_type": "code",
   "execution_count": 37,
   "metadata": {
    "collapsed": false
   },
   "outputs": [],
   "source": [
    "def creaTetto(alfa,altezza):\n",
    "    base = perimetro()[0]\n",
    "    direzioni = perimetro()[1]\n",
    "    verticiSuperiori = perimetro()[2]\n",
    "    verticiInferiori = perimetro()[2]\n",
    "    celle = []\n",
    "    c = calcoloInclinazione(altezza, alfa)\n",
    "    j=1\n",
    "    d=[]\n",
    "    vertici2 = []\n",
    "    for v in verticiSuperiori:\n",
    "        dir = []\n",
    "        for d in direzioni:\n",
    "            if d[0] == v:\n",
    "                dir.append(d[2])\n",
    "            if d[1] == v:\n",
    "                dir.append(d[2])\n",
    "                \n",
    "\n",
    "        for d in dir:\n",
    "            if(d==1):\n",
    "                v[0] = v[0]+c\n",
    "            if(d==2):\n",
    "                v[1] = v[1]+c\n",
    "            if(d==-1):\n",
    "                v[0] = v[0]-c\n",
    "            if(d==-2):\n",
    "                v[1] = v[1]-c\n",
    "                v[2] = v[2] + altezza\n",
    "        if(j==len(verticiSuperiori)):\n",
    "            celle.append([j,1])\n",
    "        else: \n",
    "            celle.append([j,j+1])\n",
    "        j = j+1\n",
    "        dir = []\n",
    "    tettoSuperiore = MKPOL([verticiSuperiori,[[1,2,3,6],[3,4,5,6]],1])\n",
    "    tetto = STRUCT([QUOTE([0])])\n",
    "    j=1\n",
    "    for c in celle:\n",
    "        a = c[0]-1\n",
    "        b = c[1]-1\n",
    "        facciata = MKPOL([[verticiInferiori[a],verticiInferiori[b],verticiSuperiori[b],verticiSuperiori[a]],[[1,2,3,4]],1])\n",
    "        tetto = STRUCT([tetto,facciata])\n",
    " \n",
    "    \n",
    "    tetto = STRUCT([tetto,tettoSuperiore])\n",
    "    tetto = COLOR(BLUE)(tetto)\n",
    "    VIEW(tetto)"
   ]
  },
  {
   "cell_type": "code",
   "execution_count": 39,
   "metadata": {
    "collapsed": false
   },
   "outputs": [],
   "source": [
    "creaTetto(20,3)"
   ]
  },
  {
   "cell_type": "code",
   "execution_count": null,
   "metadata": {
    "collapsed": true
   },
   "outputs": [],
   "source": []
  }
 ],
 "metadata": {
  "kernelspec": {
   "display_name": "Python 2",
   "language": "python",
   "name": "python2"
  },
  "language_info": {
   "codemirror_mode": {
    "name": "ipython",
    "version": 2
   },
   "file_extension": ".py",
   "mimetype": "text/x-python",
   "name": "python",
   "nbconvert_exporter": "python",
   "pygments_lexer": "ipython2",
   "version": "2.7.12"
  }
 },
 "nbformat": 4,
 "nbformat_minor": 1
}
