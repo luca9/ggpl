{
 "cells": [
  {
   "cell_type": "code",
   "execution_count": 17,
   "metadata": {
    "collapsed": false,
    "scrolled": true
   },
   "outputs": [],
   "source": [
    "from pyplasm import *\n",
    "import numpy as np\n",
    "import sys, os"
   ]
  },
  {
   "cell_type": "code",
   "execution_count": null,
   "metadata": {
    "collapsed": true
   },
   "outputs": [],
   "source": [
    "sys.setrecursionlimit(1500)\n",
    "\n",
    "grassTexture = \"image/erba.jpg\"\n",
    "asphaltTexture = \"image/asfalto.jpg\"\n",
    "\n",
    "zero = CUBOID([.0,.0,.0])\n",
    "baseStruct = STRUCT([zero])\n",
    "level_height = [30.0,30.0,20.0,30.0,30.0,20.0]\n",
    "heights = [60.0,20.0,3.5,60.0,20.0]\n",
    "\n",
    "def readSvg(reading_level,path):\n",
    "   file = open(\"File-import/level-\"+path+\".lines\",\"r\")\n",
    "   data = file.read()\n",
    "   file.close()\n",
    " \n",
    "\n",
    "levelBase = readSvg([],\"base\")\n",
    "levelStreet = readSvg([],\"house\")\n",
    "levelHouse = readSvg([],\"street\")\n",
    "\n",
    "def parseLines(l,i, params):\n",
    "  string_line = params[l][i]\n",
    "  split_line = string_line.split(\",\")\n",
    "  array_line = np.array(split_line, dtype=float)\n",
    "  return array_line"
   ]
  },
  {
   "cell_type": "code",
   "execution_count": null,
   "metadata": {
    "collapsed": true
   },
   "outputs": [],
   "source": [
    "def buildGarden(i,s1):\n",
    "  if i < len(levelBase[0]):\n",
    "    params = parseLines(0,i,levelBase)\n",
    "    a_pol = POLYLINE([[params[0],params[1]],[params[2],params[3]]])\n",
    "    a_off = OFFSET([4.0, 5.5, 5.0])(a_pol)\n",
    "    s2 = STRUCT([a_off, s1])\n",
    "    return buildGarden(i+1,s2)\n",
    "  else:\n",
    "    s1 = SOLIDIFY(SKEL_2(s1))\n",
    "    s1 = TEXTURE([grassTexture, TRUE, FALSE, 1, 1, 0, 10, 1])(s1)\n",
    "    return s1\n",
    "\n",
    "def buildStreet(i,s1):\n",
    "  if i < len(levelStreet[0]):\n",
    "    params = parseLines(0,i,levelStreet)\n",
    "    a_pol = POLYLINE([[params[0],params[1]],[params[2],params[3]]])\n",
    "    a_off = OFFSET([0.0, 0.0, 5.0])(a_pol)\n",
    "    s2 = STRUCT([a_off, s1])\n",
    "    return buildStreet(i+1,s2)\n",
    "  else:\n",
    "    s1=STRUCT([T(3)(5.0),s1])\n",
    "    return s1\n",
    "\n",
    "def buildHouseBase(i,s1):\n",
    "  if i < len(levelHouse[0]):\n",
    "    params = parseLines(0,i,levelHouse)\n",
    "    a_pol = POLYLINE([[params[0],params[1]],[params[2],params[3]]])\n",
    "    a_off = OFFSET([0.0, 0.0, 5.0])(a_pol)\n",
    "    s2 = STRUCT([a_off, s1])\n",
    "    return buildHouseBase(i+1,s2)\n",
    "  else:\n",
    "    s1 = SOLIDIFY(SKEL_2(s1))\n",
    "    s1 = TEXTURE([asphaltTexture, TRUE, FALSE, 1, 1, 0, 1, 1])(s1)\n",
    "    return s1\n",
    "\n",
    "def buildHouse():\n",
    "  garden_level = buildGarden(0,baseStruct)\n",
    "  street_level = buildStreet(0,baseStruct)\n",
    "  house_level = buildHouseBase(0,baseStruct)\n",
    "  house=STRUCT([initStruct,T(3)(0.0),garden_level])\n",
    "  house=STRUCT([house,T(3)(5.0),street_level])\n",
    "  house=STRUCT([house,T(3)(5.0),house_level])\n",
    "  return house\n",
    "\n",
    "def createCity(i,s1,d):\n",
    "  if i < 1:\n",
    "    print(i)\n",
    "    h1=STRUCT([T(1)(d),buildHouse()])\n",
    "    s1= STRUCT([h1, s1])\n",
    "    return createCity(i+1,s1,d+4000.0)\n",
    "  else:\n",
    "    VIEW(s1)\n",
    "\n",
    "createCity(0,baseStruct,0.0)"
   ]
  }
 ],
 "metadata": {
  "kernelspec": {
   "display_name": "Python 2",
   "language": "python",
   "name": "python2"
  },
  "language_info": {
   "codemirror_mode": {
    "name": "ipython",
    "version": 2
   },
   "file_extension": ".py",
   "mimetype": "text/x-python",
   "name": "python",
   "nbconvert_exporter": "python",
   "pygments_lexer": "ipython2",
   "version": "2.7.12"
  }
 },
 "nbformat": 4,
 "nbformat_minor": 1
}
